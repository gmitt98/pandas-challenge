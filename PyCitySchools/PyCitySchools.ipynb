{
 "cells": [
  {
   "attachments": {},
   "cell_type": "markdown",
   "metadata": {},
   "source": [
    "### Homework - PyCitySchools\n",
    "Using python 3.9.12 and edited in VSCode"
   ]
  },
  {
   "attachments": {},
   "cell_type": "markdown",
   "metadata": {},
   "source": [
    "# PyCityChools - Analysis\n",
    "\n",
    "### Summary\n",
    "Overall, we see that charter schools perform better than District schools on reading and math. This includes both average scores and overall passing percentages.\n",
    "Additionally, the Charter schools have lower per-student spending than the District schools.\n",
    "\n",
    "### Selected Findings\n",
    "* Charter schools score better on both reading and math, with a nine in ten students passing in both subjects while district schools score just barely more than half.\n",
    "\n",
    "    |Pass rates by school type | **Charter Schools**     | **District Schools** |\n",
    "    | ----------- | ----------- |----------- |\n",
    "    | Math      | 93.6%       |66.5% |\n",
    "    | Reading   | 96.6%        |80.8% |\n",
    "    | Overall(both)   | 90.4%       |53.7%|\n",
    "\n",
    "\n",
    "* Small and medium schools score better than large schools, but this appears to be associated with type, as the top passing schools are all charter schools and the bottom passing schools are all district schools, and the district schools are larger than the charter schools in our performance report.\n",
    "    \n",
    "    Schools by size groups:\n",
    "\n",
    "    |Rates by Size|% Passing Math |% Passing Reading  |% Overall Passing|\n",
    "    |---|----|----|----|                                        \n",
    "    |Small (<1000)          |93.6%     |96.1%          |89.9%\n",
    "    |Medium (1000-2000)     |93.6%     |96.8%          |90.6%\n",
    "    |Large (2000-5000)      |70%     |82.8%          |58.3%  \n",
    "\n",
    "\n",
    "    Top 5 Schools:\n",
    "    |School ID          |school_name     |type  |size|budget per student|% Overall Passing| \n",
    "    |---|---|---|---|---|---|\n",
    "    |6  |Cabrera High School  |Charter  |1858|582  |91.3%|\n",
    "    |14   |Thomas High School  |Charter  |1635|638   |90.9%|       \n",
    "    |4  |Griffin High School  |Charter  |1468|625  |90.6%|\n",
    "    |5   |Wilson High School  |Charter  |2283|578  |90.6%|\n",
    "    |9     |Pena High School  |Charter   |962|609  |90.5%|\n",
    "\n",
    "\n",
    "    Bottom 5 Schools:\n",
    "\n",
    "    |School ID          |school_name     |type  |size|budget per student|% Overall Passing| \n",
    "    |---|---|---|---|---|---|\n",
    "    |11  |Rodriguez High School  |District  |3999  |637  |53.0%|\n",
    "    |1   |Figueroa High School  |District  |2949  |639   |53.2%|\n",
    "    |0      |Huang High School  |District  |2917  |655   |53.5%|\n",
    "    |3  |Hernandez High School  |District  |4635  |652   |53.5%|\n",
    "    |12    |Johnson High School  |District  |4761  |650|53.5%|   \n",
    "\n",
    "* We do not see increased spending align with higher passing rates; the inverse appears to be true. Again this appears to be in line with type, as we saw above that per student budgets in the top 5 charter schools are lower than in the bottom 5 district schools.\n",
    "\n",
    "\n",
    "    |Spending Ranges (Per Student)|% Passing Math| % Passing Reading|% Overall Passing|                                              \n",
    "    |---|---|---|---|\n",
    "    |<$585|93.5%|96.6%|90.4%|  \n",
    "    |$585-630|87.1%|92.7%|81.4%|   \n",
    "    |$630-645|73.5%|84.4%|62.9%|  \n",
    "    |$645-680|66.1%|81.1%|53.5%|\n",
    "\n"
   ]
  },
  {
   "cell_type": "code",
   "execution_count": 78,
   "metadata": {},
   "outputs": [
    {
     "name": "stdout",
     "output_type": "stream",
     "text": [
      "   School ID            school_name      type  size   budget\n",
      "0          0      Huang High School  District  2917  1910635\n",
      "1          1   Figueroa High School  District  2949  1884411\n",
      "2          2    Shelton High School   Charter  1761  1056600\n",
      "3          3  Hernandez High School  District  4635  3022020\n",
      "4          4    Griffin High School   Charter  1468   917500\n",
      "   Student ID       student_name gender grade        school_name  \\\n",
      "0           0       Paul Bradley      M   9th  Huang High School   \n",
      "1           1       Victor Smith      M  12th  Huang High School   \n",
      "2           2    Kevin Rodriguez      M  12th  Huang High School   \n",
      "3           3  Dr. Richard Scott      M  12th  Huang High School   \n",
      "4           4         Bonnie Ray      F   9th  Huang High School   \n",
      "\n",
      "   reading_score  math_score  \n",
      "0             66          79  \n",
      "1             94          61  \n",
      "2             90          60  \n",
      "3             67          58  \n",
      "4             97          84  \n"
     ]
    }
   ],
   "source": [
    "# Initial setup: grabbing the data into pandas dataframes\n",
    "import pandas as pd\n",
    "import os\n",
    "\n",
    "# Get the absolute path of the directory containing the notebook\n",
    "notebook_dir = os.path.abspath('') # On my machine, this returns /Users/galenmittermann/Documents/GitHub/pandas-challenge\n",
    "#print(notebook_dir)\n",
    "# Then I set the path to the project directory\n",
    "projectDir = os.path.dirname(notebook_dir)\n",
    "# Then I create the file path relative to the project directory\n",
    "schoolFilePath = os.path.join(projectDir, \"PyCitySchools/Resources\", \"schools_complete.csv\")\n",
    "studentFilePath = os.path.join(projectDir, \"PyCitySchools/Resources\", \"students_complete.csv\")\n",
    "# Now I read the csv file into a dataframe\n",
    "schdf = pd.read_csv(schoolFilePath)\n",
    "studf = pd.read_csv(studentFilePath)\n",
    "# Look at the dataframes to make sure this worked\n",
    "print(schdf.head())\n",
    "print(studf.head())"
   ]
  },
  {
   "cell_type": "code",
   "execution_count": 79,
   "metadata": {},
   "outputs": [
    {
     "name": "stdout",
     "output_type": "stream",
     "text": [
      "15\n"
     ]
    }
   ],
   "source": [
    "# Number of schools present: length of a list that contains the unique values in the School ID column\n",
    "nUniqueSchools = len(schdf['School ID'].unique())\n",
    "print(nUniqueSchools)"
   ]
  },
  {
   "cell_type": "code",
   "execution_count": 80,
   "metadata": {},
   "outputs": [
    {
     "name": "stdout",
     "output_type": "stream",
     "text": [
      "39170\n"
     ]
    }
   ],
   "source": [
    "# Number of students: length of a list that contains unique values in the student_id column\n",
    "nUniqueStudents = len(studf['Student ID'].unique())\n",
    "print(nUniqueStudents)"
   ]
  },
  {
   "cell_type": "code",
   "execution_count": 81,
   "metadata": {},
   "outputs": [
    {
     "name": "stdout",
     "output_type": "stream",
     "text": [
      "24649428\n"
     ]
    }
   ],
   "source": [
    "# Total budget is sum of the budget column\n",
    "totalBudget = schdf['budget'].sum()\n",
    "print(totalBudget)"
   ]
  },
  {
   "cell_type": "code",
   "execution_count": 82,
   "metadata": {},
   "outputs": [
    {
     "name": "stdout",
     "output_type": "stream",
     "text": [
      "78.98537145774827\n"
     ]
    }
   ],
   "source": [
    "# Average math score in the students is average of of the math_score column\n",
    "avgMath = studf['math_score'].mean()\n",
    "print(avgMath)"
   ]
  },
  {
   "cell_type": "code",
   "execution_count": 83,
   "metadata": {},
   "outputs": [
    {
     "name": "stdout",
     "output_type": "stream",
     "text": [
      "81.87784018381414\n"
     ]
    }
   ],
   "source": [
    "# Average reading score in the students is average of of the reading_score column\n",
    "avgReading = studf['reading_score'].mean()\n",
    "print(avgReading)"
   ]
  },
  {
   "cell_type": "code",
   "execution_count": 84,
   "metadata": {},
   "outputs": [
    {
     "name": "stdout",
     "output_type": "stream",
     "text": [
      "74.9808526933878\n"
     ]
    }
   ],
   "source": [
    "# Passing math is scoring above 70\n",
    "nPassMath = studf[(studf[\"math_score\"] >= 70)].count()[\"student_name\"]\n",
    "passMathPercent = nPassMath / (nUniqueStudents) * 100\n",
    "print(passMathPercent)\n"
   ]
  },
  {
   "cell_type": "code",
   "execution_count": 85,
   "metadata": {},
   "outputs": [
    {
     "name": "stdout",
     "output_type": "stream",
     "text": [
      "85.80546336482001\n"
     ]
    }
   ],
   "source": [
    "# Passing reading is scoring above 70\n",
    "nPassReading = studf[(studf[\"reading_score\"] >= 70)].count()[\"student_name\"]\n",
    "passReadingPercent = (nPassReading / nUniqueStudents) * 100\n",
    "print(passReadingPercent)"
   ]
  },
  {
   "cell_type": "code",
   "execution_count": 86,
   "metadata": {},
   "outputs": [
    {
     "name": "stdout",
     "output_type": "stream",
     "text": [
      "65.17232575950983\n"
     ]
    }
   ],
   "source": [
    "# Passing overall is passing in both math and reading\n",
    "nPassAll = studf[\n",
    "    (studf[\"math_score\"] >= 70) & (studf[\"reading_score\"] >= 70)\n",
    "].count()[\"student_name\"]\n",
    "passAllRate = (nPassAll /  nUniqueStudents) * 100\n",
    "print(passAllRate)"
   ]
  },
  {
   "cell_type": "code",
   "execution_count": 87,
   "metadata": {},
   "outputs": [
    {
     "name": "stdout",
     "output_type": "stream",
     "text": [
      "                  Total Schools Total Students    Total Budget  Average Math  \\\n",
      "District Results           15.0       39,170.0  $24,649,428.00     78.985371   \n",
      "\n",
      "                  Average Reading  % Passing Math  % Passing Reading  \\\n",
      "District Results         81.87784       74.980853          85.805463   \n",
      "\n",
      "                  % Overall Passing  \n",
      "District Results          65.172326  \n"
     ]
    }
   ],
   "source": [
    "# I put the district data into a dictionary, then read that dictionary into a dataframe. I have to transpose the dataframe to get the columns right.\n",
    "distData = {'Total Schools':nUniqueSchools, 'Total Students':nUniqueStudents, 'Total Budget': totalBudget, 'Average Math': avgMath, 'Average Reading': avgReading, '% Passing Math': passMathPercent, '% Passing Reading': passReadingPercent, '% Overall Passing': passAllRate}\n",
    "distdf = pd.DataFrame.from_dict(distData, orient = 'index', columns = ['District Results'])\n",
    "distdf = distdf.transpose()\n",
    "#print(distdf)\n",
    "\n",
    "# Formatting, per the example code\n",
    "distdf[\"Total Students\"] = distdf[\"Total Students\"].map(\"{:,}\".format)\n",
    "distdf[\"Total Budget\"] = distdf[\"Total Budget\"].map(\"${:,.2f}\".format)\n",
    "print(distdf)"
   ]
  },
  {
   "cell_type": "code",
   "execution_count": 88,
   "metadata": {},
   "outputs": [],
   "source": [
    "# Calculating budget per student and adding it as a column\n",
    "schdf['budget per student'] = schdf['budget']/schdf['size']"
   ]
  },
  {
   "cell_type": "code",
   "execution_count": 89,
   "metadata": {},
   "outputs": [
    {
     "name": "stdout",
     "output_type": "stream",
     "text": [
      "   School ID            school_name      type  size   budget  \\\n",
      "0          0      Huang High School  District  2917  1910635   \n",
      "1          1   Figueroa High School  District  2949  1884411   \n",
      "2          2    Shelton High School   Charter  1761  1056600   \n",
      "3          3  Hernandez High School  District  4635  3022020   \n",
      "4          4    Griffin High School   Charter  1468   917500   \n",
      "\n",
      "   budget per student  average math  average reading  \n",
      "0               655.0     76.629414        81.182722  \n",
      "1               639.0     76.711767        81.158020  \n",
      "2               600.0     83.359455        83.725724  \n",
      "3               652.0     77.289752        80.934412  \n",
      "4               625.0     83.351499        83.816757  \n",
      "   Student ID       student_name gender grade        school_name  \\\n",
      "0           0       Paul Bradley      M   9th  Huang High School   \n",
      "1           1       Victor Smith      M  12th  Huang High School   \n",
      "2           2    Kevin Rodriguez      M  12th  Huang High School   \n",
      "3           3  Dr. Richard Scott      M  12th  Huang High School   \n",
      "4           4         Bonnie Ray      F   9th  Huang High School   \n",
      "\n",
      "   reading_score  math_score  \n",
      "0             66          79  \n",
      "1             94          61  \n",
      "2             90          60  \n",
      "3             67          58  \n",
      "4             97          84  \n"
     ]
    }
   ],
   "source": [
    "# Calculating avg math and avg reading scores and adding as a columns\n",
    "schAvgMath = studf.groupby('school_name')['math_score'].mean().reset_index()\n",
    "schAvgReading = studf.groupby('school_name')['reading_score'].mean().reset_index()\n",
    "# Merge  into schdf on the school_name column\n",
    "schdf = schdf.merge(schAvgMath, on='school_name')\n",
    "schdf = schdf.merge(schAvgReading, on='school_name')\n",
    "schdf = schdf.rename(columns = {'math_score':'average math', 'reading_score':'average reading'})\n",
    "\n",
    "# Print the updated DataFrames to see if we have it right\n",
    "print(schdf.head())\n",
    "print(studf.head())"
   ]
  },
  {
   "cell_type": "code",
   "execution_count": 90,
   "metadata": {},
   "outputs": [
    {
     "name": "stdout",
     "output_type": "stream",
     "text": [
      "    School ID            school_name      type  size   budget  \\\n",
      "7           7     Bailey High School  District  4976  3124928   \n",
      "6           6    Cabrera High School   Charter  1858  1081356   \n",
      "1           1   Figueroa High School  District  2949  1884411   \n",
      "13         13       Ford High School  District  2739  1763916   \n",
      "4           4    Griffin High School   Charter  1468   917500   \n",
      "3           3  Hernandez High School  District  4635  3022020   \n",
      "8           8     Holden High School   Charter   427   248087   \n",
      "0           0      Huang High School  District  2917  1910635   \n",
      "12         12    Johnson High School  District  4761  3094650   \n",
      "9           9       Pena High School   Charter   962   585858   \n",
      "11         11  Rodriguez High School  District  3999  2547363   \n",
      "2           2    Shelton High School   Charter  1761  1056600   \n",
      "14         14     Thomas High School   Charter  1635  1043130   \n",
      "5           5     Wilson High School   Charter  2283  1319574   \n",
      "10         10     Wright High School   Charter  1800  1049400   \n",
      "\n",
      "    budget per student  average math  average reading  % Passing Math  \\\n",
      "7                628.0     77.048432        81.033963       66.680064   \n",
      "6                582.0     83.061895        83.975780       94.133477   \n",
      "1                639.0     76.711767        81.158020       65.988471   \n",
      "13               644.0     77.102592        80.746258       68.309602   \n",
      "4                625.0     83.351499        83.816757       93.392371   \n",
      "3                652.0     77.289752        80.934412       66.752967   \n",
      "8                581.0     83.803279        83.814988       92.505855   \n",
      "0                655.0     76.629414        81.182722       65.683922   \n",
      "12               650.0     77.072464        80.966394       66.057551   \n",
      "9                609.0     83.839917        84.044699       94.594595   \n",
      "11               637.0     76.842711        80.744686       66.366592   \n",
      "2                600.0     83.359455        83.725724       93.867121   \n",
      "14               638.0     83.418349        83.848930       93.272171   \n",
      "5                578.0     83.274201        83.989488       93.867718   \n",
      "10               583.0     83.682222        83.955000       93.333333   \n",
      "\n",
      "    % Passing Reading  % Overall Passing  \n",
      "7           81.933280          54.642283  \n",
      "6           97.039828          91.334769  \n",
      "1           80.739234          53.204476  \n",
      "13          79.299014          54.289887  \n",
      "4           97.138965          90.599455  \n",
      "3           80.862999          53.527508  \n",
      "8           96.252927          89.227166  \n",
      "0           81.316421          53.513884  \n",
      "12          81.222432          53.539172  \n",
      "9           95.945946          90.540541  \n",
      "11          80.220055          52.988247  \n",
      "2           95.854628          89.892107  \n",
      "14          97.308869          90.948012  \n",
      "5           96.539641          90.582567  \n",
      "10          96.611111          90.333333  \n"
     ]
    }
   ],
   "source": [
    "# Calculating the percent of students per school that pass math and reading.\n",
    "# I take only the students with a score equal to or above 70, and group them by school name in order to get the count of students left (i.e those selected with passing scores)\n",
    "# And then I divide by the total count of students in that school, in order to get the total percent of students who are passing\n",
    "passMathPercentSchool = (studf[studf['math_score'] >= 70].groupby('school_name')['student_name'].count() / studf.groupby('school_name')['student_name'].count()) * 100\n",
    "passReadingPercentSchool = (studf[studf['reading_score'] >= 70].groupby('school_name')['student_name'].count() / studf.groupby('school_name')['student_name'].count()) * 100\n",
    "\n",
    "# Calculating the percent of students that pass both math and reading. Same approach, but filtering on two columns and not just one\n",
    "passAllRateSchool = (studf[(studf['math_score'] >= 70)&(studf['reading_score'] >= 70)].groupby('school_name')['student_name'].count() / studf.groupby('school_name')['student_name'].count()) * 100\n",
    "\n",
    "# Convert those to a DataFrame with a reset index\n",
    "passMathPercentSchool = pd.DataFrame({'school_name': passMathPercentSchool.index, '% Passing Math': passMathPercentSchool.values})\n",
    "passReadingPercentSchool = pd.DataFrame({'school_name': passReadingPercentSchool.index, '% Passing Reading': passReadingPercentSchool.values})\n",
    "passAllRateSchool = pd.DataFrame({'school_name': passAllRateSchool.index, '% Overall Passing': passAllRateSchool.values})\n",
    "\n",
    "# Merge the passing rate dataframes into schdf on the school_name column\n",
    "schdf = schdf.merge(passMathPercentSchool, on='school_name')\n",
    "schdf = schdf.merge(passReadingPercentSchool, on='school_name')\n",
    "schdf = schdf.merge(passAllRateSchool, on='school_name')\n",
    "\n",
    "# Print the school dataframe to verify my answers\n",
    "print(schdf.sort_values(by=['school_name']))\n"
   ]
  },
  {
   "cell_type": "code",
   "execution_count": 91,
   "metadata": {},
   "outputs": [
    {
     "name": "stdout",
     "output_type": "stream",
     "text": [
      "    School ID          school_name     type  size   budget  \\\n",
      "6           6  Cabrera High School  Charter  1858  1081356   \n",
      "14         14   Thomas High School  Charter  1635  1043130   \n",
      "4           4  Griffin High School  Charter  1468   917500   \n",
      "5           5   Wilson High School  Charter  2283  1319574   \n",
      "9           9     Pena High School  Charter   962   585858   \n",
      "\n",
      "    budget per student  average math  average reading  % Passing Math  \\\n",
      "6                582.0     83.061895        83.975780       94.133477   \n",
      "14               638.0     83.418349        83.848930       93.272171   \n",
      "4                625.0     83.351499        83.816757       93.392371   \n",
      "5                578.0     83.274201        83.989488       93.867718   \n",
      "9                609.0     83.839917        84.044699       94.594595   \n",
      "\n",
      "    % Passing Reading  % Overall Passing  \n",
      "6           97.039828          91.334769  \n",
      "14          97.308869          90.948012  \n",
      "4           97.138965          90.599455  \n",
      "5           96.539641          90.582567  \n",
      "9           95.945946          90.540541  \n",
      "    School ID            school_name      type  size   budget  \\\n",
      "11         11  Rodriguez High School  District  3999  2547363   \n",
      "1           1   Figueroa High School  District  2949  1884411   \n",
      "0           0      Huang High School  District  2917  1910635   \n",
      "3           3  Hernandez High School  District  4635  3022020   \n",
      "12         12    Johnson High School  District  4761  3094650   \n",
      "\n",
      "    budget per student  average math  average reading  % Passing Math  \\\n",
      "11               637.0     76.842711        80.744686       66.366592   \n",
      "1                639.0     76.711767        81.158020       65.988471   \n",
      "0                655.0     76.629414        81.182722       65.683922   \n",
      "3                652.0     77.289752        80.934412       66.752967   \n",
      "12               650.0     77.072464        80.966394       66.057551   \n",
      "\n",
      "    % Passing Reading  % Overall Passing  \n",
      "11          80.220055          52.988247  \n",
      "1           80.739234          53.204476  \n",
      "0           81.316421          53.513884  \n",
      "3           80.862999          53.527508  \n",
      "12          81.222432          53.539172  \n"
     ]
    }
   ],
   "source": [
    "# Top and bottom performing schools - I sort the dataframe and save off the 5 best and worst\n",
    "topSchoolsdf = schdf.sort_values('% Overall Passing', ascending=False)\n",
    "topSchoolsdf = topSchoolsdf.head(5)\n",
    "bottomSchoolsdf = schdf.sort_values('% Overall Passing', ascending=True)\n",
    "bottomSchoolsdf=bottomSchoolsdf.head(5)\n",
    "print(topSchoolsdf)\n",
    "print(bottomSchoolsdf)"
   ]
  },
  {
   "cell_type": "code",
   "execution_count": 92,
   "metadata": {},
   "outputs": [
    {
     "name": "stdout",
     "output_type": "stream",
     "text": [
      "  grade  average math score\n",
      "0  10th           78.941483\n",
      "1  11th           79.083548\n",
      "2  12th           78.993164\n",
      "3   9th           78.935659\n",
      "  grade  average reading score\n",
      "0  10th              81.874410\n",
      "1  11th              81.885714\n",
      "2  12th              81.819851\n",
      "3   9th              81.914358\n"
     ]
    }
   ],
   "source": [
    "# Average math and reading scores by grade. This is just like the average scores by school but grouped on a different column.\n",
    "gradeAvgMath = studf.groupby('grade')['math_score'].mean().reset_index()\n",
    "gradeAvgReading = studf.groupby('grade')['reading_score'].mean().reset_index()\n",
    "# Rename the colums to show that these are averages\n",
    "gradeAvgMath = gradeAvgMath.rename(columns = {'math_score':'average math score'})\n",
    "gradeAvgReading = gradeAvgReading.rename(columns = {'reading_score':'average reading score'})\n",
    "print(gradeAvgMath)\n",
    "print(gradeAvgReading)"
   ]
  },
  {
   "cell_type": "code",
   "execution_count": 93,
   "metadata": {},
   "outputs": [
    {
     "name": "stdout",
     "output_type": "stream",
     "text": [
      "grade                        9th       10th       11th       12th\n",
      "school_name                                                      \n",
      "Bailey High School     77.083676  76.996772  77.515588  76.492218\n",
      "Cabrera High School    83.094697  83.154506  82.765560  83.277487\n",
      "Figueroa High School   76.403037  76.539974  76.884344  77.151369\n",
      "Ford High School       77.361345  77.672316  76.918058  76.179963\n",
      "Griffin High School    82.044010  84.229064  83.842105  83.356164\n",
      "Hernandez High School  77.438495  77.337408  77.136029  77.186567\n",
      "Holden High School     83.787402  83.429825  85.000000  82.855422\n",
      "Huang High School      77.027251  75.908735  76.446602  77.225641\n",
      "Johnson High School    77.187857  76.691117  77.491653  76.863248\n",
      "Pena High School       83.625455  83.372000  84.328125  84.121547\n",
      "Rodriguez High School  76.859966  76.612500  76.395626  77.690748\n",
      "Shelton High School    83.420755  82.917411  83.383495  83.778976\n",
      "Thomas High School     83.590022  83.087886  83.498795  83.497041\n",
      "Wilson High School     83.085578  83.724422  83.195326  83.035794\n",
      "Wright High School     83.264706  84.010288  83.836782  83.644986\n"
     ]
    }
   ],
   "source": [
    "# Math scores by school and by grade\n",
    "# Group the data by school and grade and calculate the average math score for each group\n",
    "school_grade_math = studf.groupby(['school_name', 'grade'])['math_score'].mean()\n",
    "\n",
    "# Pivot the data so that grades are columns and schools are rows\n",
    "school_grade_math = school_grade_math.reset_index().pivot(index='school_name', columns='grade', values='math_score')\n",
    "\n",
    "# Sort the columns in ascending order\n",
    "school_grade_math = school_grade_math[['9th', '10th', '11th', '12th']]\n",
    "\n",
    "# Print the resulting dataframe\n",
    "print(school_grade_math)\n",
    "\n"
   ]
  },
  {
   "cell_type": "code",
   "execution_count": 94,
   "metadata": {},
   "outputs": [
    {
     "name": "stdout",
     "output_type": "stream",
     "text": [
      "    School ID            school_name      type  size   budget  \\\n",
      "0           0      Huang High School  District  2917  1910635   \n",
      "1           1   Figueroa High School  District  2949  1884411   \n",
      "2           2    Shelton High School   Charter  1761  1056600   \n",
      "3           3  Hernandez High School  District  4635  3022020   \n",
      "4           4    Griffin High School   Charter  1468   917500   \n",
      "5           5     Wilson High School   Charter  2283  1319574   \n",
      "6           6    Cabrera High School   Charter  1858  1081356   \n",
      "7           7     Bailey High School  District  4976  3124928   \n",
      "8           8     Holden High School   Charter   427   248087   \n",
      "9           9       Pena High School   Charter   962   585858   \n",
      "10         10     Wright High School   Charter  1800  1049400   \n",
      "11         11  Rodriguez High School  District  3999  2547363   \n",
      "12         12    Johnson High School  District  4761  3094650   \n",
      "13         13       Ford High School  District  2739  1763916   \n",
      "14         14     Thomas High School   Charter  1635  1043130   \n",
      "\n",
      "    budget per student  average math  average reading  % Passing Math  \\\n",
      "0                655.0     76.629414        81.182722       65.683922   \n",
      "1                639.0     76.711767        81.158020       65.988471   \n",
      "2                600.0     83.359455        83.725724       93.867121   \n",
      "3                652.0     77.289752        80.934412       66.752967   \n",
      "4                625.0     83.351499        83.816757       93.392371   \n",
      "5                578.0     83.274201        83.989488       93.867718   \n",
      "6                582.0     83.061895        83.975780       94.133477   \n",
      "7                628.0     77.048432        81.033963       66.680064   \n",
      "8                581.0     83.803279        83.814988       92.505855   \n",
      "9                609.0     83.839917        84.044699       94.594595   \n",
      "10               583.0     83.682222        83.955000       93.333333   \n",
      "11               637.0     76.842711        80.744686       66.366592   \n",
      "12               650.0     77.072464        80.966394       66.057551   \n",
      "13               644.0     77.102592        80.746258       68.309602   \n",
      "14               638.0     83.418349        83.848930       93.272171   \n",
      "\n",
      "    % Passing Reading  % Overall Passing Spending Ranges (Per Student)  \n",
      "0           81.316421          53.513884                      $645-680  \n",
      "1           80.739234          53.204476                      $630-645  \n",
      "2           95.854628          89.892107                      $585-630  \n",
      "3           80.862999          53.527508                      $645-680  \n",
      "4           97.138965          90.599455                      $585-630  \n",
      "5           96.539641          90.582567                         <$585  \n",
      "6           97.039828          91.334769                         <$585  \n",
      "7           81.933280          54.642283                      $585-630  \n",
      "8           96.252927          89.227166                         <$585  \n",
      "9           95.945946          90.540541                      $585-630  \n",
      "10          96.611111          90.333333                         <$585  \n",
      "11          80.220055          52.988247                      $630-645  \n",
      "12          81.222432          53.539172                      $645-680  \n",
      "13          79.299014          54.289887                      $630-645  \n",
      "14          97.308869          90.948012                      $630-645  \n"
     ]
    }
   ],
   "source": [
    "# In this section I am keeping the sample code provided on the challenge webpage and in the starter code file, so the naming conventions change from my previous\n",
    "# Normally I try to use camelCase where possible. I am adopting the given names as much as possible so that the code works without a bunch of re-work\n",
    "\n",
    "spending_bins = [0, 585, 630, 645, 680]\n",
    "labels = [\"<$585\", \"$585-630\", \"$630-645\", \"$645-680\"]\n",
    "\n",
    "# Create a copy of the school summary since it has the \"Per Student Budget\" \n",
    "school_spending_df = schdf.copy()\n",
    "# Use `pd.cut` to categorize spending based on the bins.\n",
    "school_spending_df[\"Spending Ranges (Per Student)\"] = pd.cut(schdf[\"budget\"]/schdf[\"size\"], spending_bins, labels=labels)\n",
    "\n",
    "print(school_spending_df)\n",
    "\n",
    "spending_math_scores = school_spending_df.groupby([\"Spending Ranges (Per Student)\"]).mean()[\"average math\"]\n",
    "spending_reading_scores = school_spending_df.groupby([\"Spending Ranges (Per Student)\"]).mean()[\"average reading\"]\n",
    "spending_passing_math = school_spending_df.groupby([\"Spending Ranges (Per Student)\"]).mean()[\"% Passing Math\"]\n",
    "spending_passing_reading = school_spending_df.groupby([\"Spending Ranges (Per Student)\"]).mean()[\"% Passing Reading\"]\n",
    "overall_passing_spending = school_spending_df.groupby([\"Spending Ranges (Per Student)\"]).mean()[\"% Overall Passing\"]"
   ]
  },
  {
   "cell_type": "code",
   "execution_count": 95,
   "metadata": {},
   "outputs": [
    {
     "name": "stdout",
     "output_type": "stream",
     "text": [
      "                               Average Math Score  Average Reading Score  \\\n",
      "Spending Ranges (Per Student)                                              \n",
      "<$585                                   83.455399              83.933814   \n",
      "$585-630                                81.899826              83.155286   \n",
      "$630-645                                78.518855              81.624473   \n",
      "$645-680                                76.997210              81.027843   \n",
      "\n",
      "                               % Passing Math  % Passing Reading  \\\n",
      "Spending Ranges (Per Student)                                      \n",
      "<$585                               93.460096          96.610877   \n",
      "$585-630                            87.133538          92.718205   \n",
      "$630-645                            73.484209          84.391793   \n",
      "$645-680                            66.164813          81.133951   \n",
      "\n",
      "                               % Overall Passing  \n",
      "Spending Ranges (Per Student)                     \n",
      "<$585                                  90.369459  \n",
      "$585-630                               81.418596  \n",
      "$630-645                               62.857656  \n",
      "$645-680                               53.526855  \n"
     ]
    }
   ],
   "source": [
    "# Assemble into DataFrame\n",
    "spending_summary = pd.DataFrame({\"Average Math Score\":spending_math_scores, \"Average Reading Score\": spending_reading_scores, \"% Passing Math\": spending_passing_math, \"% Passing Reading\": spending_passing_reading, \"% Overall Passing\": overall_passing_spending})\n",
    "\n",
    "# Display results\n",
    "print(spending_summary)"
   ]
  },
  {
   "cell_type": "code",
   "execution_count": 96,
   "metadata": {},
   "outputs": [
    {
     "name": "stdout",
     "output_type": "stream",
     "text": [
      "    School ID            school_name      type  size   budget  \\\n",
      "0           0      Huang High School  District  2917  1910635   \n",
      "1           1   Figueroa High School  District  2949  1884411   \n",
      "2           2    Shelton High School   Charter  1761  1056600   \n",
      "3           3  Hernandez High School  District  4635  3022020   \n",
      "4           4    Griffin High School   Charter  1468   917500   \n",
      "5           5     Wilson High School   Charter  2283  1319574   \n",
      "6           6    Cabrera High School   Charter  1858  1081356   \n",
      "7           7     Bailey High School  District  4976  3124928   \n",
      "8           8     Holden High School   Charter   427   248087   \n",
      "9           9       Pena High School   Charter   962   585858   \n",
      "10         10     Wright High School   Charter  1800  1049400   \n",
      "11         11  Rodriguez High School  District  3999  2547363   \n",
      "12         12    Johnson High School  District  4761  3094650   \n",
      "13         13       Ford High School  District  2739  1763916   \n",
      "14         14     Thomas High School   Charter  1635  1043130   \n",
      "\n",
      "    budget per student  average math  average reading  % Passing Math  \\\n",
      "0                655.0     76.629414        81.182722       65.683922   \n",
      "1                639.0     76.711767        81.158020       65.988471   \n",
      "2                600.0     83.359455        83.725724       93.867121   \n",
      "3                652.0     77.289752        80.934412       66.752967   \n",
      "4                625.0     83.351499        83.816757       93.392371   \n",
      "5                578.0     83.274201        83.989488       93.867718   \n",
      "6                582.0     83.061895        83.975780       94.133477   \n",
      "7                628.0     77.048432        81.033963       66.680064   \n",
      "8                581.0     83.803279        83.814988       92.505855   \n",
      "9                609.0     83.839917        84.044699       94.594595   \n",
      "10               583.0     83.682222        83.955000       93.333333   \n",
      "11               637.0     76.842711        80.744686       66.366592   \n",
      "12               650.0     77.072464        80.966394       66.057551   \n",
      "13               644.0     77.102592        80.746258       68.309602   \n",
      "14               638.0     83.418349        83.848930       93.272171   \n",
      "\n",
      "    % Passing Reading  % Overall Passing          Size Range  \n",
      "0           81.316421          53.513884   Large (2000-5000)  \n",
      "1           80.739234          53.204476   Large (2000-5000)  \n",
      "2           95.854628          89.892107  Medium (1000-2000)  \n",
      "3           80.862999          53.527508   Large (2000-5000)  \n",
      "4           97.138965          90.599455  Medium (1000-2000)  \n",
      "5           96.539641          90.582567   Large (2000-5000)  \n",
      "6           97.039828          91.334769  Medium (1000-2000)  \n",
      "7           81.933280          54.642283   Large (2000-5000)  \n",
      "8           96.252927          89.227166       Small (<1000)  \n",
      "9           95.945946          90.540541       Small (<1000)  \n",
      "10          96.611111          90.333333  Medium (1000-2000)  \n",
      "11          80.220055          52.988247   Large (2000-5000)  \n",
      "12          81.222432          53.539172   Large (2000-5000)  \n",
      "13          79.299014          54.289887   Large (2000-5000)  \n",
      "14          97.308869          90.948012  Medium (1000-2000)  \n"
     ]
    }
   ],
   "source": [
    "# Scores by school size\n",
    "size_bins = [0, 1000, 2000, 5000]\n",
    "labels = [\"Small (<1000)\", \"Medium (1000-2000)\", \"Large (2000-5000)\"]\n",
    "\n",
    "# Create a copy of the school summary since it has the student size\n",
    "school_size_df = schdf.copy()\n",
    "# Use `pd.cut` to categorize spending based on the bins.\n",
    "school_size_df[\"Size Range\"] = pd.cut(schdf[\"size\"], size_bins, labels=labels)\n",
    "print(school_size_df)"
   ]
  },
  {
   "cell_type": "code",
   "execution_count": 97,
   "metadata": {},
   "outputs": [
    {
     "name": "stdout",
     "output_type": "stream",
     "text": [
      "                    Average Math Score  Average Reading Score  % Passing Math  \\\n",
      "Size Range                                                                      \n",
      "Small (<1000)                83.821598              83.929843       93.550225   \n",
      "Medium (1000-2000)           83.374684              83.864438       93.599695   \n",
      "Large (2000-5000)            77.746417              81.344493       69.963361   \n",
      "\n",
      "                    % Passing Reading  % Overall Passing  \n",
      "Size Range                                                \n",
      "Small (<1000)               96.099437          89.883853  \n",
      "Medium (1000-2000)          96.790680          90.621535  \n",
      "Large (2000-5000)           82.766634          58.286003  \n"
     ]
    }
   ],
   "source": [
    "# Replicating the spending rage process but for size range\n",
    "size_math_scores = school_size_df.groupby([\"Size Range\"]).mean()[\"average math\"]\n",
    "size_reading_scores = school_size_df.groupby([\"Size Range\"]).mean()[\"average reading\"]\n",
    "size_passing_math = school_size_df.groupby([\"Size Range\"]).mean()[\"% Passing Math\"]\n",
    "size_passing_reading = school_size_df.groupby([\"Size Range\"]).mean()[\"% Passing Reading\"]\n",
    "overall_passing_size = school_size_df.groupby([\"Size Range\"]).mean()[\"% Overall Passing\"]\n",
    "\n",
    "# Assemble into DataFrame\n",
    "size_summary = pd.DataFrame({\"Average Math Score\":size_math_scores, \"Average Reading Score\": size_reading_scores, \"% Passing Math\": size_passing_math, \"% Passing Reading\": size_passing_reading, \"% Overall Passing\": overall_passing_size})\n",
    "\n",
    "# Display results\n",
    "print(size_summary)"
   ]
  },
  {
   "cell_type": "code",
   "execution_count": 98,
   "metadata": {},
   "outputs": [
    {
     "name": "stdout",
     "output_type": "stream",
     "text": [
      "          Average Math Score  Average Reading Score  % Passing Math  \\\n",
      "type                                                                  \n",
      "Charter            83.473852              83.896421       93.620830   \n",
      "District           76.956733              80.966636       66.548453   \n",
      "\n",
      "          % Passing Reading  % Overall Passing  \n",
      "type                                            \n",
      "Charter           96.586489          90.432244  \n",
      "District          80.799062          53.672208  \n"
     ]
    }
   ],
   "source": [
    "# Replicating the spending rage process but for school type\n",
    "school_type_df = schdf.copy()\n",
    "\n",
    "type_math_scores = school_type_df.groupby([\"type\"]).mean()[\"average math\"]\n",
    "type_reading_scores = school_type_df.groupby([\"type\"]).mean()[\"average reading\"]\n",
    "type_passing_math = school_type_df.groupby([\"type\"]).mean()[\"% Passing Math\"]\n",
    "type_passing_reading = school_type_df.groupby([\"type\"]).mean()[\"% Passing Reading\"]\n",
    "overall_passing_type = school_type_df.groupby([\"type\"]).mean()[\"% Overall Passing\"]\n",
    "\n",
    "# Assemble into DataFrame\n",
    "type_summary = pd.DataFrame({\"Average Math Score\":type_math_scores, \"Average Reading Score\": type_reading_scores, \"% Passing Math\": type_passing_math, \"% Passing Reading\": type_passing_reading, \"% Overall Passing\": overall_passing_type})\n",
    "\n",
    "# Display results\n",
    "print(type_summary)"
   ]
  }
 ],
 "metadata": {
  "kernelspec": {
   "display_name": "Python 3",
   "language": "python",
   "name": "python3"
  },
  "language_info": {
   "codemirror_mode": {
    "name": "ipython",
    "version": 3
   },
   "file_extension": ".py",
   "mimetype": "text/x-python",
   "name": "python",
   "nbconvert_exporter": "python",
   "pygments_lexer": "ipython3",
   "version": "3.9.12"
  },
  "orig_nbformat": 4
 },
 "nbformat": 4,
 "nbformat_minor": 2
}
