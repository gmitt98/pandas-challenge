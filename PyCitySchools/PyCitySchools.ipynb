{
 "cells": [
  {
   "cell_type": "code",
   "execution_count": 220,
   "metadata": {},
   "outputs": [],
   "source": [
    "# This is the notebook for python pandas challenge\n",
    "# Using python 3.9.12 and edited in VSCode"
   ]
  },
  {
   "cell_type": "code",
   "execution_count": 221,
   "metadata": {},
   "outputs": [
    {
     "name": "stdout",
     "output_type": "stream",
     "text": [
      "/Users/galenmittermann/Documents/GitHub/pandas-challenge/PyCitySchools\n",
      "   School ID            school_name      type  size   budget\n",
      "0          0      Huang High School  District  2917  1910635\n",
      "1          1   Figueroa High School  District  2949  1884411\n",
      "2          2    Shelton High School   Charter  1761  1056600\n",
      "3          3  Hernandez High School  District  4635  3022020\n",
      "4          4    Griffin High School   Charter  1468   917500\n",
      "   Student ID       student_name gender grade        school_name  \\\n",
      "0           0       Paul Bradley      M   9th  Huang High School   \n",
      "1           1       Victor Smith      M  12th  Huang High School   \n",
      "2           2    Kevin Rodriguez      M  12th  Huang High School   \n",
      "3           3  Dr. Richard Scott      M  12th  Huang High School   \n",
      "4           4         Bonnie Ray      F   9th  Huang High School   \n",
      "\n",
      "   reading_score  math_score  \n",
      "0             66          79  \n",
      "1             94          61  \n",
      "2             90          60  \n",
      "3             67          58  \n",
      "4             97          84  \n"
     ]
    }
   ],
   "source": [
    "# Initial setup: grabbing the data into pandas dataframes\n",
    "import pandas as pd\n",
    "import os\n",
    "\n",
    "# Get the absolute path of the directory containing the notebook\n",
    "notebook_dir = os.path.abspath('') # On my machine, this returns /Users/galenmittermann/Documents/GitHub/pandas-challenge\n",
    "print(notebook_dir)\n",
    "# Then I set the path to the project directory\n",
    "projectDir = os.path.dirname(notebook_dir)\n",
    "# Then I create the file path relative to the project directory\n",
    "schoolFilePath = os.path.join(projectDir, \"PyCitySchools/Resources\", \"schools_complete.csv\")\n",
    "studentFilePath = os.path.join(projectDir, \"PyCitySchools/Resources\", \"students_complete.csv\")\n",
    "# Now I read the csv file into a dataframe\n",
    "schdf = pd.read_csv(schoolFilePath)\n",
    "studf = pd.read_csv(studentFilePath)\n",
    "# Look at the dataframes to make sure this worked\n",
    "print(schdf.head())\n",
    "print(studf.head())\n"
   ]
  },
  {
   "cell_type": "code",
   "execution_count": 222,
   "metadata": {},
   "outputs": [
    {
     "name": "stdout",
     "output_type": "stream",
     "text": [
      "15\n"
     ]
    }
   ],
   "source": [
    "# Number of schools present: length of a list that contains the unique values in the School ID column\n",
    "nUniqueSchools = len(schdf['School ID'].unique())\n",
    "print(nUniqueSchools)"
   ]
  },
  {
   "cell_type": "code",
   "execution_count": 223,
   "metadata": {},
   "outputs": [
    {
     "name": "stdout",
     "output_type": "stream",
     "text": [
      "39170\n"
     ]
    }
   ],
   "source": [
    "# Number of students: length of a list that contains unique values in the student_id column\n",
    "nUniqueStudents = len(studf['Student ID'].unique())\n",
    "print(nUniqueStudents)"
   ]
  },
  {
   "cell_type": "code",
   "execution_count": 224,
   "metadata": {},
   "outputs": [
    {
     "name": "stdout",
     "output_type": "stream",
     "text": [
      "24649428\n"
     ]
    }
   ],
   "source": [
    "# Total budget is sum of the budget column\n",
    "totalBudget = schdf['budget'].sum()\n",
    "print(totalBudget)"
   ]
  },
  {
   "cell_type": "code",
   "execution_count": 225,
   "metadata": {},
   "outputs": [
    {
     "name": "stdout",
     "output_type": "stream",
     "text": [
      "78.98537145774827\n"
     ]
    }
   ],
   "source": [
    "# Average math score in the students is average of of the math_score column\n",
    "avgMath = studf['math_score'].mean()\n",
    "print(avgMath)"
   ]
  },
  {
   "cell_type": "code",
   "execution_count": 226,
   "metadata": {},
   "outputs": [
    {
     "name": "stdout",
     "output_type": "stream",
     "text": [
      "81.87784018381414\n"
     ]
    }
   ],
   "source": [
    "# Average reading score in the students is average of of the reading_score column\n",
    "avgReading = studf['reading_score'].mean()\n",
    "print(avgReading)"
   ]
  },
  {
   "cell_type": "code",
   "execution_count": 227,
   "metadata": {},
   "outputs": [
    {
     "name": "stdout",
     "output_type": "stream",
     "text": [
      "74.9808526933878\n"
     ]
    }
   ],
   "source": [
    "# Passing math is scoring above 70\n",
    "nPassMath = studf[(studf[\"math_score\"] >= 70)].count()[\"student_name\"]\n",
    "passMathPercent = nPassMath / (nUniqueStudents) * 100\n",
    "print(passMathPercent)\n"
   ]
  },
  {
   "cell_type": "code",
   "execution_count": 228,
   "metadata": {},
   "outputs": [
    {
     "name": "stdout",
     "output_type": "stream",
     "text": [
      "85.80546336482001\n"
     ]
    }
   ],
   "source": [
    "# Passing reading is scoring above 70\n",
    "nPassReading = studf[(studf[\"reading_score\"] >= 70)].count()[\"student_name\"]\n",
    "passReadingPercent = (nPassReading / nUniqueStudents) * 100\n",
    "print(passReadingPercent)"
   ]
  },
  {
   "cell_type": "code",
   "execution_count": 229,
   "metadata": {},
   "outputs": [
    {
     "name": "stdout",
     "output_type": "stream",
     "text": [
      "65.17232575950983\n"
     ]
    }
   ],
   "source": [
    "# Passing overall is passing in both math and reading\n",
    "nPassAll = studf[\n",
    "    (studf[\"math_score\"] >= 70) & (studf[\"reading_score\"] >= 70)\n",
    "].count()[\"student_name\"]\n",
    "passAllRate = (nPassAll /  nUniqueStudents) * 100\n",
    "print(passAllRate)"
   ]
  },
  {
   "cell_type": "code",
   "execution_count": 230,
   "metadata": {},
   "outputs": [
    {
     "name": "stdout",
     "output_type": "stream",
     "text": [
      "                  Total Schools  Total Students  Total Budget  Average Math  \\\n",
      "District Results           15.0         39170.0    24649428.0     78.985371   \n",
      "\n",
      "                  Average Reading  % Passing Math  % Passing Reading  \\\n",
      "District Results         81.87784       74.980853          85.805463   \n",
      "\n",
      "                  % Overall Passing  \n",
      "District Results          65.172326  \n",
      "                  Total Schools Total Students    Total Budget  Average Math  \\\n",
      "District Results           15.0       39,170.0  $24,649,428.00     78.985371   \n",
      "\n",
      "                  Average Reading  % Passing Math  % Passing Reading  \\\n",
      "District Results         81.87784       74.980853          85.805463   \n",
      "\n",
      "                  % Overall Passing  \n",
      "District Results          65.172326  \n"
     ]
    }
   ],
   "source": [
    "# I put the district data into a dictionary, then read that dictionary into a dataframe. I have to transpose the dataframe to get the columns right.\n",
    "distData = {'Total Schools':nUniqueSchools, 'Total Students':nUniqueStudents, 'Total Budget': totalBudget, 'Average Math': avgMath, 'Average Reading': avgReading, '% Passing Math': passMathPercent, '% Passing Reading': passReadingPercent, '% Overall Passing': passAllRate}\n",
    "distdf = pd.DataFrame.from_dict(distData, orient = 'index', columns = ['District Results'])\n",
    "distdf = distdf.transpose()\n",
    "print(distdf)\n",
    "\n",
    "# Formatting, per the example code\n",
    "distdf[\"Total Students\"] = distdf[\"Total Students\"].map(\"{:,}\".format)\n",
    "distdf[\"Total Budget\"] = distdf[\"Total Budget\"].map(\"${:,.2f}\".format)\n",
    "print(distdf)"
   ]
  },
  {
   "cell_type": "code",
   "execution_count": 231,
   "metadata": {},
   "outputs": [],
   "source": [
    "# Calculating budget per student and adding it as a column\n",
    "schdf['budget per student'] = schdf['budget']/schdf['size']"
   ]
  },
  {
   "cell_type": "code",
   "execution_count": 232,
   "metadata": {},
   "outputs": [
    {
     "name": "stdout",
     "output_type": "stream",
     "text": [
      "   School ID            school_name      type  size   budget  \\\n",
      "0          0      Huang High School  District  2917  1910635   \n",
      "1          1   Figueroa High School  District  2949  1884411   \n",
      "2          2    Shelton High School   Charter  1761  1056600   \n",
      "3          3  Hernandez High School  District  4635  3022020   \n",
      "4          4    Griffin High School   Charter  1468   917500   \n",
      "\n",
      "   budget per student  average math  average reading  \n",
      "0               655.0     76.629414        81.182722  \n",
      "1               639.0     76.711767        81.158020  \n",
      "2               600.0     83.359455        83.725724  \n",
      "3               652.0     77.289752        80.934412  \n",
      "4               625.0     83.351499        83.816757  \n",
      "   Student ID       student_name gender grade        school_name  \\\n",
      "0           0       Paul Bradley      M   9th  Huang High School   \n",
      "1           1       Victor Smith      M  12th  Huang High School   \n",
      "2           2    Kevin Rodriguez      M  12th  Huang High School   \n",
      "3           3  Dr. Richard Scott      M  12th  Huang High School   \n",
      "4           4         Bonnie Ray      F   9th  Huang High School   \n",
      "\n",
      "   reading_score  math_score  \n",
      "0             66          79  \n",
      "1             94          61  \n",
      "2             90          60  \n",
      "3             67          58  \n",
      "4             97          84  \n"
     ]
    }
   ],
   "source": [
    "# Calculating avg math and avg reading scores and adding as a columns\n",
    "schAvgMath = studf.groupby('school_name')['math_score'].mean().reset_index()\n",
    "schAvgReading = studf.groupby('school_name')['reading_score'].mean().reset_index()\n",
    "# Merge  into schdf on the school_name column\n",
    "schdf = schdf.merge(schAvgMath, on='school_name')\n",
    "schdf = schdf.merge(schAvgReading, on='school_name')\n",
    "schdf = schdf.rename(columns = {'math_score':'average math', 'reading_score':'average reading'})\n",
    "\n",
    "# Print the updated DataFrames to see if we have it right\n",
    "print(schdf.head())\n",
    "print(studf.head())"
   ]
  },
  {
   "cell_type": "code",
   "execution_count": 233,
   "metadata": {},
   "outputs": [
    {
     "name": "stdout",
     "output_type": "stream",
     "text": [
      "    School ID            school_name      type  size   budget  \\\n",
      "0           0      Huang High School  District  2917  1910635   \n",
      "1           1   Figueroa High School  District  2949  1884411   \n",
      "2           2    Shelton High School   Charter  1761  1056600   \n",
      "3           3  Hernandez High School  District  4635  3022020   \n",
      "4           4    Griffin High School   Charter  1468   917500   \n",
      "5           5     Wilson High School   Charter  2283  1319574   \n",
      "6           6    Cabrera High School   Charter  1858  1081356   \n",
      "7           7     Bailey High School  District  4976  3124928   \n",
      "8           8     Holden High School   Charter   427   248087   \n",
      "9           9       Pena High School   Charter   962   585858   \n",
      "10         10     Wright High School   Charter  1800  1049400   \n",
      "11         11  Rodriguez High School  District  3999  2547363   \n",
      "12         12    Johnson High School  District  4761  3094650   \n",
      "13         13       Ford High School  District  2739  1763916   \n",
      "14         14     Thomas High School   Charter  1635  1043130   \n",
      "\n",
      "    budget per student  average math  average reading  % Passing Math  \\\n",
      "0                655.0     76.629414        81.182722       63.318478   \n",
      "1                639.0     76.711767        81.158020       63.750424   \n",
      "2                600.0     83.359455        83.725724       89.892107   \n",
      "3                652.0     77.289752        80.934412       64.746494   \n",
      "4                625.0     83.351499        83.816757       89.713896   \n",
      "5                578.0     83.274201        83.989488       90.932983   \n",
      "6                582.0     83.061895        83.975780       89.558665   \n",
      "7                628.0     77.048432        81.033963       64.630225   \n",
      "8                581.0     83.803279        83.814988       90.632319   \n",
      "9                609.0     83.839917        84.044699       91.683992   \n",
      "10               583.0     83.682222        83.955000       90.277778   \n",
      "11               637.0     76.842711        80.744686       64.066017   \n",
      "12               650.0     77.072464        80.966394       63.852132   \n",
      "13               644.0     77.102592        80.746258       65.753925   \n",
      "14               638.0     83.418349        83.848930       90.214067   \n",
      "\n",
      "    % Passing Reading  % Overall Passing  \n",
      "0           78.813850          49.914296  \n",
      "1           78.433367          49.915226  \n",
      "2           92.617831          83.191369  \n",
      "3           78.187702          50.161812  \n",
      "4           93.392371          83.651226  \n",
      "5           93.254490          84.888305  \n",
      "6           93.864370          84.015070  \n",
      "7           79.300643          51.145498  \n",
      "8           92.740047          84.074941  \n",
      "9           92.203742          84.823285  \n",
      "10          93.444444          84.444444  \n",
      "11          77.744436          49.437359  \n",
      "12          78.281874          49.800462  \n",
      "13          77.510040          51.296093  \n",
      "14          92.905199          84.281346  \n"
     ]
    }
   ],
   "source": [
    "# Calculating the percent of students per school that pass math and reading.\n",
    "# I take only the students with a score above 70, and group them by school name in order to get the count of students left (i.e those selected with passing scores)\n",
    "# And then I divide by the total count of students in that school, in order to get the total percent of students who are passing\n",
    "passMathPercentSchool = (studf[studf['math_score'] > 70].groupby('school_name')['student_name'].count() / studf.groupby('school_name')['student_name'].count()) * 100\n",
    "passReadingPercentSchool = (studf[studf['reading_score'] > 70].groupby('school_name')['student_name'].count() / studf.groupby('school_name')['student_name'].count()) * 100\n",
    "\n",
    "# Calculating the percent of students that pass both math and reading. Same approach, but filtering on two columns and not just one\n",
    "passAllRateSchool = (studf[(studf['math_score'] > 70)&(studf['reading_score'] > 70)].groupby('school_name')['student_name'].count() / studf.groupby('school_name')['student_name'].count()) * 100\n",
    "\n",
    "# Convert those to a DataFrame with a reset index\n",
    "passMathPercentSchool = pd.DataFrame({'school_name': passMathPercentSchool.index, '% Passing Math': passMathPercentSchool.values})\n",
    "passReadingPercentSchool = pd.DataFrame({'school_name': passReadingPercentSchool.index, '% Passing Reading': passReadingPercentSchool.values})\n",
    "passAllRateSchool = pd.DataFrame({'school_name': passAllRateSchool.index, '% Overall Passing': passAllRateSchool.values})\n",
    "\n",
    "# Merge the passing rate dataframes into schdf on the school_name column\n",
    "schdf = schdf.merge(passMathPercentSchool, on='school_name')\n",
    "schdf = schdf.merge(passReadingPercentSchool, on='school_name')\n",
    "schdf = schdf.merge(passAllRateSchool, on='school_name')\n",
    "\n",
    "# Print the school dataframe to verify my answers\n",
    "print(schdf)\n"
   ]
  },
  {
   "cell_type": "code",
   "execution_count": 235,
   "metadata": {},
   "outputs": [
    {
     "name": "stdout",
     "output_type": "stream",
     "text": [
      "    School ID         school_name     type  size   budget  budget per student  \\\n",
      "5           5  Wilson High School  Charter  2283  1319574               578.0   \n",
      "9           9    Pena High School  Charter   962   585858               609.0   \n",
      "10         10  Wright High School  Charter  1800  1049400               583.0   \n",
      "14         14  Thomas High School  Charter  1635  1043130               638.0   \n",
      "8           8  Holden High School  Charter   427   248087               581.0   \n",
      "\n",
      "    average math  average reading  % Passing Math  % Passing Reading  \\\n",
      "5      83.274201        83.989488       90.932983          93.254490   \n",
      "9      83.839917        84.044699       91.683992          92.203742   \n",
      "10     83.682222        83.955000       90.277778          93.444444   \n",
      "14     83.418349        83.848930       90.214067          92.905199   \n",
      "8      83.803279        83.814988       90.632319          92.740047   \n",
      "\n",
      "    % Overall Passing  \n",
      "5           84.888305  \n",
      "9           84.823285  \n",
      "10          84.444444  \n",
      "14          84.281346  \n",
      "8           84.074941  \n",
      "    School ID            school_name      type  size   budget  \\\n",
      "11         11  Rodriguez High School  District  3999  2547363   \n",
      "12         12    Johnson High School  District  4761  3094650   \n",
      "0           0      Huang High School  District  2917  1910635   \n",
      "1           1   Figueroa High School  District  2949  1884411   \n",
      "3           3  Hernandez High School  District  4635  3022020   \n",
      "\n",
      "    budget per student  average math  average reading  % Passing Math  \\\n",
      "11               637.0     76.842711        80.744686       64.066017   \n",
      "12               650.0     77.072464        80.966394       63.852132   \n",
      "0                655.0     76.629414        81.182722       63.318478   \n",
      "1                639.0     76.711767        81.158020       63.750424   \n",
      "3                652.0     77.289752        80.934412       64.746494   \n",
      "\n",
      "    % Passing Reading  % Overall Passing  \n",
      "11          77.744436          49.437359  \n",
      "12          78.281874          49.800462  \n",
      "0           78.813850          49.914296  \n",
      "1           78.433367          49.915226  \n",
      "3           78.187702          50.161812  \n"
     ]
    }
   ],
   "source": [
    "# Top and bottom performing schools - I sort the dataframe and save off the 5 best and worst\n",
    "topSchoolsdf = schdf.sort_values('% Overall Passing', ascending=False)\n",
    "topSchoolsdf = topSchoolsdf.head(5)\n",
    "bottomSchoolsdf = schdf.sort_values('% Overall Passing', ascending=True)\n",
    "bottomSchoolsdf=bottomSchoolsdf.head(5)\n",
    "print(topSchoolsdf)\n",
    "print(bottomSchoolsdf)"
   ]
  },
  {
   "cell_type": "code",
   "execution_count": 240,
   "metadata": {},
   "outputs": [
    {
     "name": "stdout",
     "output_type": "stream",
     "text": [
      "  grade  average math score\n",
      "0  10th           78.941483\n",
      "1  11th           79.083548\n",
      "2  12th           78.993164\n",
      "3   9th           78.935659\n",
      "  grade  average reading score\n",
      "0  10th              81.874410\n",
      "1  11th              81.885714\n",
      "2  12th              81.819851\n",
      "3   9th              81.914358\n"
     ]
    }
   ],
   "source": [
    "# Average math and reading scores by grade. This is just like the average scores by school but grouped on a different column.\n",
    "gradeAvgMath = studf.groupby('grade')['math_score'].mean().reset_index()\n",
    "gradeAvgReading = studf.groupby('grade')['reading_score'].mean().reset_index()\n",
    "# Rename the colums to show that these are averages\n",
    "gradeAvgMath = gradeAvgMath.rename(columns = {'math_score':'average math score'})\n",
    "gradeAvgReading = gradeAvgReading.rename(columns = {'reading_score':'average reading score'})\n",
    "print(gradeAvgMath)\n",
    "print(gradeAvgReading)"
   ]
  },
  {
   "cell_type": "code",
   "execution_count": 245,
   "metadata": {},
   "outputs": [
    {
     "name": "stdout",
     "output_type": "stream",
     "text": [
      "grade                        9th       10th       11th       12th\n",
      "school_name                                                      \n",
      "Bailey High School     77.083676  76.996772  77.515588  76.492218\n",
      "Cabrera High School    83.094697  83.154506  82.765560  83.277487\n",
      "Figueroa High School   76.403037  76.539974  76.884344  77.151369\n",
      "Ford High School       77.361345  77.672316  76.918058  76.179963\n",
      "Griffin High School    82.044010  84.229064  83.842105  83.356164\n",
      "Hernandez High School  77.438495  77.337408  77.136029  77.186567\n",
      "Holden High School     83.787402  83.429825  85.000000  82.855422\n",
      "Huang High School      77.027251  75.908735  76.446602  77.225641\n",
      "Johnson High School    77.187857  76.691117  77.491653  76.863248\n",
      "Pena High School       83.625455  83.372000  84.328125  84.121547\n",
      "Rodriguez High School  76.859966  76.612500  76.395626  77.690748\n",
      "Shelton High School    83.420755  82.917411  83.383495  83.778976\n",
      "Thomas High School     83.590022  83.087886  83.498795  83.497041\n",
      "Wilson High School     83.085578  83.724422  83.195326  83.035794\n",
      "Wright High School     83.264706  84.010288  83.836782  83.644986\n"
     ]
    }
   ],
   "source": [
    "# Math scores by grade\n",
    "# Group the data by school and grade and calculate the average math score for each group\n",
    "school_grade_math = studf.groupby(['school_name', 'grade'])['math_score'].mean()\n",
    "\n",
    "# Pivot the data so that grades are columns and schools are rows\n",
    "school_grade_math = school_grade_math.reset_index().pivot(index='school_name', columns='grade', values='math_score')\n",
    "\n",
    "# Sort the columns in ascending order\n",
    "school_grade_math = school_grade_math[['9th', '10th', '11th', '12th']]\n",
    "\n",
    "# Print the resulting dataframe\n",
    "print(school_grade_math)\n",
    "\n"
   ]
  },
  {
   "cell_type": "code",
   "execution_count": null,
   "metadata": {},
   "outputs": [],
   "source": [
    "# In this section I am keeping the sample code\n",
    "\n",
    "spending_bins = [0, 585, 630, 645, 680]\n",
    "labels = [\"<$585\", \"$585-630\", \"$630-645\", \"$645-680\"]\n",
    "\n",
    "# Create a copy of the school summary since it has the \"Per Student Budget\" \n",
    "school_spending_df = per_school_summary.copy()\n",
    "# Use `pd.cut` to categorize spending based on the bins.\n",
    "school_spending_df[\"Spending Ranges (Per Student)\"] = \n",
    "print(school_spending_df)\n",
    "\n",
    "spending_math_scores = school_spending_df.groupby([\"Spending Ranges (Per Student)\"]).mean()[\"Average Math Score\"]\n",
    "spending_reading_scores = school_spending_df.groupby([\"Spending Ranges (Per Student)\"]).mean()[\"Average Reading Score\"]\n",
    "spending_passing_math = school_spending_df.groupby([\"Spending Ranges (Per Student)\"]).mean()[\"% Passing Math\"]\n",
    "spending_passing_reading = school_spending_df.groupby([\"Spending Ranges (Per Student)\"]).mean()[\"% Passing Reading\"]\n",
    "overall_passing_spending = school_spending_df.groupby([\"Spending Ranges (Per Student)\"]).mean()[\"% Overall Passing\"]"
   ]
  }
 ],
 "metadata": {
  "kernelspec": {
   "display_name": "Python 3",
   "language": "python",
   "name": "python3"
  },
  "language_info": {
   "codemirror_mode": {
    "name": "ipython",
    "version": 3
   },
   "file_extension": ".py",
   "mimetype": "text/x-python",
   "name": "python",
   "nbconvert_exporter": "python",
   "pygments_lexer": "ipython3",
   "version": "3.9.12"
  },
  "orig_nbformat": 4
 },
 "nbformat": 4,
 "nbformat_minor": 2
}
