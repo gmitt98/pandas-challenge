{
 "cells": [
  {
   "cell_type": "code",
   "execution_count": 12,
   "metadata": {},
   "outputs": [],
   "source": [
    "# This is the notebook for python pandas challenge\n",
    "# Using python 3.9.12"
   ]
  },
  {
   "cell_type": "code",
   "execution_count": 13,
   "metadata": {},
   "outputs": [
    {
     "name": "stdout",
     "output_type": "stream",
     "text": [
      "/Users/galenmittermann/Documents/GitHub/pandas-challenge/PyCitySchools\n",
      "   School ID            school_name      type  size   budget\n",
      "0          0      Huang High School  District  2917  1910635\n",
      "1          1   Figueroa High School  District  2949  1884411\n",
      "2          2    Shelton High School   Charter  1761  1056600\n",
      "3          3  Hernandez High School  District  4635  3022020\n",
      "4          4    Griffin High School   Charter  1468   917500\n",
      "   Student ID       student_name gender grade        school_name  \\\n",
      "0           0       Paul Bradley      M   9th  Huang High School   \n",
      "1           1       Victor Smith      M  12th  Huang High School   \n",
      "2           2    Kevin Rodriguez      M  12th  Huang High School   \n",
      "3           3  Dr. Richard Scott      M  12th  Huang High School   \n",
      "4           4         Bonnie Ray      F   9th  Huang High School   \n",
      "\n",
      "   reading_score  math_score  \n",
      "0             66          79  \n",
      "1             94          61  \n",
      "2             90          60  \n",
      "3             67          58  \n",
      "4             97          84  \n"
     ]
    }
   ],
   "source": [
    "# Initial setup: grabbing the data into pandas dataframes\n",
    "import pandas as pd\n",
    "import os\n",
    "\n",
    "# Get the absolute path of the directory containing the notebook\n",
    "notebook_dir = os.path.abspath('') # On my machine, this returns /Users/galenmittermann/Documents/GitHub/pandas-challenge\n",
    "print(notebook_dir)\n",
    "# Then I set the path to the project directory\n",
    "projectDir = os.path.dirname(notebook_dir)\n",
    "# Then I create the file path relative to the project directory\n",
    "schoolFilePath = os.path.join(projectDir, \"PyCitySchools/Resources\", \"schools_complete.csv\")\n",
    "studentFilePath = os.path.join(projectDir, \"PyCitySchools/Resources\", \"students_complete.csv\")\n",
    "# Now I read the csv file into a dataframe\n",
    "schdf = pd.read_csv(schoolFilePath)\n",
    "studf = pd.read_csv(studentFilePath)\n",
    "# Look at the dataframes to make sure this worked\n",
    "print(schdf.head())\n",
    "print(studf.head())\n"
   ]
  },
  {
   "cell_type": "code",
   "execution_count": 20,
   "metadata": {},
   "outputs": [
    {
     "name": "stdout",
     "output_type": "stream",
     "text": [
      "15\n"
     ]
    }
   ],
   "source": [
    "# Number of schools present: length of a list that contains the unique values in the School ID column\n",
    "nUniqueSchools = len(schdf['School ID'].unique())\n",
    "print(nUniqueSchools)"
   ]
  },
  {
   "cell_type": "code",
   "execution_count": 19,
   "metadata": {},
   "outputs": [
    {
     "name": "stdout",
     "output_type": "stream",
     "text": [
      "39170\n"
     ]
    }
   ],
   "source": [
    "# Number of students: length of a list that contains unique values in the student_id column\n",
    "nUniqueStudents = len(studf['Student ID'].unique())\n",
    "print(nUniqueStudents)"
   ]
  },
  {
   "cell_type": "code",
   "execution_count": 23,
   "metadata": {},
   "outputs": [
    {
     "name": "stdout",
     "output_type": "stream",
     "text": [
      "24649428\n"
     ]
    }
   ],
   "source": [
    "# Total budget is sum of the budget column\n",
    "totalBudget = schdf['budget'].sum()\n",
    "print(totalBudget)"
   ]
  },
  {
   "cell_type": "code",
   "execution_count": 26,
   "metadata": {},
   "outputs": [
    {
     "name": "stdout",
     "output_type": "stream",
     "text": [
      "78.98537145774827\n"
     ]
    }
   ],
   "source": [
    "# Average math score in the students is average of of the math_score column\n",
    "avgMath = studf['math_score'].mean()\n",
    "print(avgMath)"
   ]
  },
  {
   "cell_type": "code",
   "execution_count": 27,
   "metadata": {},
   "outputs": [
    {
     "name": "stdout",
     "output_type": "stream",
     "text": [
      "81.87784018381414\n"
     ]
    }
   ],
   "source": [
    "# Average reading score in the students is average of of the reading_score column\n",
    "avgReading = studf['reading_score'].mean()\n",
    "print(avgReading)"
   ]
  }
 ],
 "metadata": {
  "kernelspec": {
   "display_name": "Python 3",
   "language": "python",
   "name": "python3"
  },
  "language_info": {
   "codemirror_mode": {
    "name": "ipython",
    "version": 3
   },
   "file_extension": ".py",
   "mimetype": "text/x-python",
   "name": "python",
   "nbconvert_exporter": "python",
   "pygments_lexer": "ipython3",
   "version": "3.9.12"
  },
  "orig_nbformat": 4
 },
 "nbformat": 4,
 "nbformat_minor": 2
}
