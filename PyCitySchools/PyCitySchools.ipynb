{
 "cells": [
  {
   "cell_type": "code",
   "execution_count": null,
   "metadata": {},
   "outputs": [],
   "source": [
    "# This is the notebook for python pandas challenge"
   ]
  },
  {
   "cell_type": "code",
   "execution_count": null,
   "metadata": {},
   "outputs": [
    {
     "ename": "",
     "evalue": "",
     "output_type": "error",
     "traceback": [
      "\u001b[1;31mJupyter cannot be started. Error attempting to locate Jupyter: Running cells requires notebook package.\n",
      "\u001b[1;31mRun the following command to install 'jupyter and notebook' into the Python environment. \n",
      "\u001b[1;31mCommand: 'python -m pip install jupyter notebook -U\n",
      "\u001b[1;31mor\n",
      "\u001b[1;31mconda install jupyter notebook -U'\n",
      "\u001b[1;31mClick <a href='https://aka.ms/installJupyterForVSCode'>here</a> for more info."
     ]
    }
   ],
   "source": [
    "# Initial setup: grabbing the data into pandas dataframes\n",
    "\n",
    "import pandas as pd\n",
    "import os\n",
    "\n",
    "# First I get the path to the project directory\n",
    "projectDir = os.path.dirname(os.path.abspath(__file__))\n",
    "# Then I create the file path relative to the project directory\n",
    "schoolFilePath = os.path.join(projectDir, \"Resources\", \"schools_complete.csv\")\n",
    "studentFilePath = os.path.joint(projectDir, \"Resources\", \"students_complete.csv\")\n",
    "# Now I read the csv file into a dataframe\n",
    "schdf = pd.read_csv(schoolFilePath)\n",
    "studf = pd.read_csv(studentFilePath)\n",
    "# Look at the dataframes to make sure this worked\n",
    "print(schdf.head())\n",
    "print(studf.head())"
   ]
  },
  {
   "cell_type": "code",
   "execution_count": null,
   "metadata": {},
   "outputs": [],
   "source": []
  }
 ],
 "metadata": {
  "kernelspec": {
   "display_name": "Python 3",
   "language": "python",
   "name": "python3"
  },
  "language_info": {
   "name": "python",
   "version": "3.9.12"
  },
  "orig_nbformat": 4
 },
 "nbformat": 4,
 "nbformat_minor": 2
}
